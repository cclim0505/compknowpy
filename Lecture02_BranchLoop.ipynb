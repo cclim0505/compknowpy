{
 "cells": [
  {
   "cell_type": "markdown",
   "metadata": {},
   "source": [
    "---\n",
    "title: Introduction to programming with Python 3\n",
    "\n",
    "author: ccLim, cclim@epcombb.org, cclim.0505@gmail.com\n",
    "\n",
    "date: 27th Apr 2020\n",
    "\n",
    "---\n",
    "\n",
    "# Lecture 2-  Branching & Looping\n",
    "\n",
    "From here, we look at the most powerful features of a computer.\n",
    "\n",
    "## Boolean data types\n",
    "\n",
    "\n",
    "Look at the following statements, and guess their output."
   ]
  },
  {
   "cell_type": "code",
   "execution_count": null,
   "metadata": {},
   "outputs": [],
   "source": [
    "# Example 2.1\n",
    "# Compare operators\n",
    "\n",
    "print(10 == 5)\n",
    "print(10 != 5)\n",
    "print(10 > 5)\n",
    "print(10 < 5)\n",
    "print(10 >= 10)\n",
    "print(10 <= 11)"
   ]
  },
  {
   "cell_type": "markdown",
   "metadata": {},
   "source": [
    "The above expression in `print()` will return either `True` or `False`.\n",
    "\n",
    "They are Boolean data types. There is no third Boolean data type, other than `True` or `False`.\n",
    "\n",
    "### Compare operators\n",
    "\n",
    "The **compare operators** （比较运算符） are:\n",
    "\n",
    "**`==`**  **equal to** \n",
    "\n",
    "**`!=`**  **not equal to** \n",
    "\n",
    "**`>`**  **greater than** \n",
    "\n",
    "**`<`**  **less than** \n",
    "\n",
    "**`>=`**  **greater than or equal to** \n",
    "\n",
    "**`<=`**  **less than or equal to** \n",
    "\n",
    "Try and guess the following examples:"
   ]
  },
  {
   "cell_type": "code",
   "execution_count": null,
   "metadata": {},
   "outputs": [],
   "source": [
    "#Example 2.2\n",
    "#Some logical expressions\n",
    "\n",
    "a = 10\n",
    "b = 12\n",
    "print('The first print is', a > b)\n",
    "\n",
    "a = a + 1\n",
    "print('The second print is', a < b)\n",
    "\n",
    "a = a + 1\n",
    "print('The third print is', a > b)\n",
    "\n",
    "a = a + 2\n",
    "print('The fourth print is', a == b)"
   ]
  },
  {
   "cell_type": "code",
   "execution_count": null,
   "metadata": {},
   "outputs": [],
   "source": [
    "#Example 2.3\n",
    "# Some logical expressions\n",
    "\n",
    "a = 1\n",
    "b = 3\n",
    "c = 5\n",
    "d = 7\n",
    "\n",
    "c += 1   # this is the same as c = c + 1\n",
    "print(c == d)\n",
    "\n",
    "d += 2   # this is the same as d = d + 2\n",
    "print(c != d)\n",
    "print(c > d)\n",
    "\n",
    "b -= 2   # this is the same as b = b - 2\n",
    "print(a == b)\n",
    "print(a + a == b)\n",
    "print(a + a == b + 1)\n",
    "\n",
    "print('In the end,\\nthe values of \\ta, b, c, d\\t are:\\t', a, b, c, d)"
   ]
  },
  {
   "cell_type": "markdown",
   "metadata": {},
   "source": [
    "### Compact notation for assignments\n",
    "\n",
    "Assignments can be written compactly as in:\n",
    "\n",
    "```python\n",
    "c += 1   # this is the same as c = c + 1\n",
    "```\n",
    "\n",
    "`x += 1` is `x = x + 1`\n",
    "\n",
    "`x -= 1` is `x = x - 1`\n",
    "\n",
    "`x *= 1` is `x = x * 1`\n",
    "\n",
    "`x /= 1` is `x = x / 1`\n",
    "\n",
    "You will find these short forms very useful. There are other compact notations not covered here."
   ]
  },
  {
   "cell_type": "markdown",
   "metadata": {},
   "source": [
    "### Logical operators\n",
    "Logical operators（逻辑运算符） `and`, `or` & `not` can be used with comparison operators to make more complex Boolean statements."
   ]
  },
  {
   "cell_type": "code",
   "execution_count": null,
   "metadata": {},
   "outputs": [],
   "source": [
    "## Example 2.4\n",
    "# Logical operators\n",
    "\n",
    "a = 1\n",
    "b = 2\n",
    "\n",
    "print(a < b and a == 1)\n",
    "print(a > b and a == 1)\n",
    "print(a > b or a == 1)\n",
    "print(a > b or a == 2)\n",
    "\n",
    "print(a < b)\n",
    "print(not(a < b))"
   ]
  },
  {
   "cell_type": "markdown",
   "metadata": {},
   "source": [
    "As such,\n",
    "\n",
    "`and` returns `True` if both statments are true.\n",
    "\n",
    "`or` returns `True` if one of the staments is true.\n",
    "\n",
    "`not` negates（否定） the Boolean result, or returns the reverse result.\n",
    "\n",
    "\n",
    "\n",
    "\n",
    "#### Summary\n",
    "\n",
    "`and`:\n",
    "\n",
    "`(True)` `and` `(True)` returns `True`\n",
    "\n",
    "`(True)` `and` `(False)` returns `False`\n",
    "\n",
    "`(False)` `and` `(True)` returns `False`\n",
    "\n",
    "`(False)` `and` `(False)` returns `False`\n",
    "\n",
    "\n",
    "---\n",
    "`or`:\n",
    "\n",
    "`(True)` `or` `(True)` returns `True`\n",
    "\n",
    "\n",
    "`(True)` `or` `(False)` returns `True`\n",
    "\n",
    "\n",
    "`(False)` `or` `(True)` returns `True`\n",
    "\n",
    "\n",
    "`(False)` `or` `(False)` returns `False`\n",
    "\n",
    "\n",
    "\n",
    "---\n",
    "`not`:\n",
    "\n",
    "`not(True)` returns `False`\n",
    "\n",
    "`not(False)` returns `True`"
   ]
  },
  {
   "cell_type": "markdown",
   "metadata": {},
   "source": [
    "### `bool()` function\n",
    "\n",
    "The `bool()` function can also take in arguments to return a Boolean value.\n",
    "\n",
    "Any number is `True`, except `0`.\n",
    "\n",
    "Any string is `True`, except empty strings."
   ]
  },
  {
   "cell_type": "code",
   "execution_count": null,
   "metadata": {},
   "outputs": [],
   "source": [
    "# Example 2.5\n",
    "# Showing the bool() function\n",
    "\n",
    "print(bool(15))\n",
    "print(bool(0))\n",
    "\n",
    "durian = 0\n",
    "rambutan = 2\n",
    "\n",
    "print(bool(durian))\n",
    "print(bool(rambutan))\n",
    "\n",
    "myname = 'Jacob'\n",
    "hername = ''\n",
    "\n",
    "print('My name is', myname, '. It is ', bool(myname))\n",
    "print('Her name is', hername, '. It is', bool(hername))"
   ]
  },
  {
   "cell_type": "markdown",
   "metadata": {},
   "source": [
    "## The `if` construct\n",
    "\n",
    "Boolean expressions are included in `if` statements to test the expressions' validity（正确性）.\n",
    "\n",
    "`if` can be paired with `else`.\n",
    "\n",
    "It is like telling the program what to do under certain conditions.\n",
    "\n",
    "You can think of it as\n",
    "\n",
    "```\n",
    "If this is true, execute the codes in the following block, else(not true), execute another block.\n",
    "如果这是正确的，就执行以下的程式碼，要不然（错误的），就执行其他的程式碼。\n",
    "```\n",
    "\n",
    "An `if` block is run when the `if` statement is `True`. \n",
    "\n",
    "The `else` block is run when the `if` statement is `False` and when the `else` block is present."
   ]
  },
  {
   "cell_type": "code",
   "execution_count": null,
   "metadata": {},
   "outputs": [],
   "source": [
    "##Example 2.6\n",
    "# Using if to test expressions between integer values\n",
    "# Tip: change the values assigned to the variables and test out the if...else construct\n",
    "\n",
    "a = 10\n",
    "b = 12\n",
    "\n",
    "if a < b:\n",
    "    print(a, 'is less than', b)\n",
    "else:\n",
    "    print(a, 'is greater than', b)\n",
    "\n",
    "# Think for a while, when a and b have the same value, will this programme be correct?"
   ]
  },
  {
   "cell_type": "markdown",
   "metadata": {},
   "source": [
    "### `elif`\n",
    "\n",
    "If you want to apply more conditions to the `if...else` construct, you can add in between them `elif`."
   ]
  },
  {
   "cell_type": "code",
   "execution_count": null,
   "metadata": {},
   "outputs": [],
   "source": [
    "##Example 2.7\n",
    "# This is a better programme to compare integer values.\n",
    "\n",
    "a = 12\n",
    "b = 12\n",
    "\n",
    "if a < b:\n",
    "    print(a, 'is less than', b)\n",
    "elif a == b:\n",
    "    print(a, 'is equal to', b)\n",
    "else:\n",
    "    print(a, 'is greater than', b)"
   ]
  },
  {
   "cell_type": "markdown",
   "metadata": {},
   "source": [
    "The `if` statement starts at line 7, and evaluates the expression `a < b`.\n",
    "\n",
    "The `if` **block code** starts from line 7 and ends at line 12."
   ]
  },
  {
   "cell_type": "markdown",
   "metadata": {},
   "source": [
    "Based on Example 2.7, following is an `if`construct example in `C`.\n",
    "\n",
    "```C\n",
    "#include <stdio.h>\n",
    "int main() {\n",
    "\n",
    "   int a, b;\n",
    "   a = 12;\n",
    "   b = 12;\n",
    "   \n",
    "   if(a < b){\n",
    "     printf(\"%d is less than %d\\n\", a, b);\n",
    "   }\n",
    "   else if(a == b){\n",
    "     printf(\"%d is equal to %d\\n\", a, b);\n",
    "   }\n",
    "   else {\n",
    "     printf(\"%d is greater than %d\\n\", a, b);\n",
    "   }\n",
    "   return 0;\n",
    "}\n",
    "```\n",
    "\n",
    "`C++`\n",
    "\n",
    "```C++\n",
    "#include <iostream>\n",
    "using namespace std;\n",
    "int main()\n",
    "{\n",
    "   int a = 12;\n",
    "   int b = 12;\n",
    "   if(a < b){\n",
    "     cout << a << \" is less than \" << b << endl; \n",
    "   }\n",
    "   else if(a == b){\n",
    "     cout << a << \" is equal to \" << b << endl; \n",
    "   }\n",
    "   else{\n",
    "     cout << a << \" is greather than \" << b << endl; \n",
    "   }\n",
    "    return 0; \n",
    "}    \n",
    "\n",
    "```\n",
    "\n",
    "`Java`\n",
    "```Java\n",
    "package Java;\n",
    "\n",
    "public class Loop {\n",
    "\tpublic static void main(String [] args) {\n",
    "\t\tJava(12,12);\n",
    "\t}\n",
    "\t\n",
    "\tpublic static void Java (int a, int b ){\n",
    "\t\t\n",
    "\t\tif (a < b) {\n",
    "\t\t\tSystem.out.println(\"A:\" + a + \" is less than B: \" + b);\n",
    "\t\t\t\n",
    "\t\t}else if(a==b) {\n",
    "\t\t\tSystem.out.println(\"A: \" + a + \" is equal to B:\" + b);\n",
    "\t\t\t\n",
    "\t\t}else {\n",
    "\t\t\tSystem.out.println(\"A: \" + a + \" is greater than B:\" + b);\n",
    "\t\t\t\n",
    "\t\t}\n",
    "\t\t\t\n",
    "\t\t\n",
    "\t}\n",
    "}\n",
    "\n",
    "```\n",
    "\n",
    "`Javascript`\n",
    "```javascript\n",
    "function myFunction() {\n",
    "  var result;\n",
    "  var a = 12;\n",
    "  var b = 12;\n",
    "  if (a < b) {\n",
    "    result = \"A is lesser than B\";\n",
    "  } else if (a = b) {\n",
    "    result = \"A is equal to B \";\n",
    "  } else {\n",
    "    result = \"A is greater than B\";\n",
    "  }\n",
    "}\n",
    "\n",
    "```\n",
    "\n",
    "`Shell/Bash`\n",
    "```bash\n",
    "a=12\n",
    "b=12\n",
    "\n",
    "if [ $a -lt $b ]\n",
    "then\n",
    "    echo \"$a is less than $b\"\n",
    "elif [ $a -eq $b ]\n",
    "then\n",
    "    echo \"$a is equal to $b\"\n",
    "else\n",
    "    echo \"$a is greater than $b\"\n",
    "fi\n",
    "\n",
    "\n",
    "```"
   ]
  },
  {
   "cell_type": "markdown",
   "metadata": {},
   "source": [
    "## Debugging\n",
    "\n",
    "Example 2.6 is an example of a computer bug in programming.\n",
    "\n",
    "The programme did not have any syntax error（语法错误）during runtime, and finished perfectly until the end.\n",
    "\n",
    "But we notice that it produced unintended（出乎意料的） results.\n",
    "\n",
    "The lesson here:\n",
    "\n",
    "    Computers are good at following its set of architectural design rule（结构设计的规则）.\n",
    "    They also follow all the instructions and programmes designed by the programmer.\n",
    "    In some sense, they are never \"wrong\".\n",
    "    When a computer bug appears in a programme, it is almost always the programmer's fault.\n",
    "    \n",
    "Fixing a computer bug is called **debugging**."
   ]
  },
  {
   "cell_type": "code",
   "execution_count": null,
   "metadata": {},
   "outputs": [],
   "source": [
    "# Example 2.8\n",
    "# Syntax error sample\n",
    "a = 11\n",
    "b = 12\n",
    "\n",
    "if a < b      #this line will produce a syntax error, because \":\" is missing\n",
    "    print(a, 'is less than', b) "
   ]
  },
  {
   "cell_type": "markdown",
   "metadata": {},
   "source": [
    "## Python indentation\n",
    "\n",
    "Python indentation （空格）rules apply when using `if` constructs, and also loop constucts introduced later.\n",
    "\n",
    "Each level of indentation is exactly four (4) white spaces, and can be achieved by the `Tab` button when set correctly."
   ]
  },
  {
   "cell_type": "code",
   "execution_count": null,
   "metadata": {},
   "outputs": [],
   "source": [
    "# Example 2.9\n",
    "# Syntax error sample, with improper indentation\n",
    "a = 11\n",
    "b = 12\n",
    "\n",
    "if a < b:\n",
    "print(a, 'is less than', b) # this line will produce an error when not indented properly"
   ]
  },
  {
   "cell_type": "markdown",
   "metadata": {},
   "source": [
    "## Examples with `if`\n",
    "\n",
    "We take from Example 1.18 and improve our programme with the `if` construct."
   ]
  },
  {
   "cell_type": "code",
   "execution_count": null,
   "metadata": {},
   "outputs": [],
   "source": [
    "# Example 2.10 (from Example 1.18)\n",
    "# A programme that converts days into weeks\n",
    "\n",
    "day = input('Give me the number of day(s): ')\n",
    "dpw = 7  \n",
    "week = int(day) // dpw   \n",
    "remain = int(day) % dpw  \n",
    "\n",
    "\n",
    "print ('You have entered ' , day , ' day(s).')\n",
    "if (remain != 0):\n",
    "    print ('It is equal to ' , week , ' week(s) & ' , remain , ' day(s)')\n",
    "else:\n",
    "    print ('It is exactly ' , week, 'week(s).')"
   ]
  },
  {
   "cell_type": "markdown",
   "metadata": {},
   "source": [
    "We can also add features to Exercise 1.6."
   ]
  },
  {
   "cell_type": "code",
   "execution_count": null,
   "metadata": {},
   "outputs": [],
   "source": [
    "# Example 2.11\n",
    "# Exercise 1.6 with added features.\n",
    "\n",
    "first = input(\"Input your first name:\")\n",
    "last = input(\"Input your last name:\")\n",
    "gender = int(input(\"Choose \\n(1) if you are a boy, \\n(2) if you are a girl\\n\"))\n",
    "\n",
    "if gender == 1:\n",
    "    print('Hello, Mr. ', last, ',', first)\n",
    "elif gender == 2:\n",
    "    print('Hello, Ms. ', last, ',', first)\n",
    "else:\n",
    "    print('I\\'m not sure how should I address you, ', 'Mr. or Ms. ',first, last, '?')"
   ]
  },
  {
   "cell_type": "markdown",
   "metadata": {},
   "source": [
    "## The Number Guessing Game (1)\n",
    "\n",
    "A new example, a number guessing game."
   ]
  },
  {
   "cell_type": "code",
   "execution_count": null,
   "metadata": {},
   "outputs": [],
   "source": [
    "# Example 2.12\n",
    "# A simple number guessing game\n",
    "\n",
    "answer = 5\n",
    "guess = int(input(\"Guess a number from 1 to 10:\\n\"))\n",
    "if answer == guess:\n",
    "    print(\"Bingo! You are right!\")\n",
    "else:\n",
    "    print(\"Ooops, sorry try again next time.\")\n",
    "    \n",
    "#This game is not very fun, or rather stupid. \n",
    "#But we will continue to use this and make it more interesting later."
   ]
  },
  {
   "cell_type": "markdown",
   "metadata": {},
   "source": [
    "\n",
    "## The `while` construct\n",
    "\n",
    "Computers are very good at doing repetitive operations, or what we call loops （迴圈）.\n",
    "\n",
    "A `while` statement runs a loop when its condition is `True`. \n",
    "\n",
    "Let's take an example.\n",
    "\n"
   ]
  },
  {
   "cell_type": "code",
   "execution_count": null,
   "metadata": {},
   "outputs": [],
   "source": [
    "# Example 2.13\n",
    "# Simple programme that counts from 1 to 10.\n",
    "\n",
    "counter = 1\n",
    "max_lim = 11\n",
    "while counter < max_lim:\n",
    "    print (counter)\n",
    "    counter += 1    "
   ]
  },
  {
   "cell_type": "markdown",
   "metadata": {},
   "source": [
    "Line 4 & 5 are initialisations.\n",
    "\n",
    "The `while` loop starts at line 6, and ends at line 8, i.e. the `while` **block** takes up three lines.\n",
    "\n",
    "Pay attention to the indentation at lines 7 & 8.\n",
    "\n",
    "The `while` block is like an `if` block, except that a `while` block keeps repeating the statements in the block if the logical comparision expression is `True`.\n",
    "\n",
    "（如果这是对的，就一直重复这样做）\n",
    "\n",
    "Line 8 has to be there, so that `counter` increases and will eventually be larger than `max_lim`.\n",
    "\n",
    "### Infinite loops\n",
    "\n",
    "What if line 8 is not there? The programme never stops if run. That is an **infinite loop（无穷迴圈）**. \n",
    "\n",
    "It will never stop running unless it is **killed**. In worst case scenarios, it may break your computer.\n",
    "\n",
    "You can try Example 2.14. Kill the programme by pressing the `STOP` button, which interrupts the kernel."
   ]
  },
  {
   "cell_type": "code",
   "execution_count": null,
   "metadata": {},
   "outputs": [],
   "source": [
    "# Example 2.14\n",
    "# Infinite loop programme\n",
    "# Remember to STOP it by interrupting the kernel\n",
    "\n",
    "counter = 1\n",
    "max_lim = 11\n",
    "while counter < max_lim:\n",
    "    print (counter)"
   ]
  },
  {
   "cell_type": "markdown",
   "metadata": {},
   "source": [
    "Based on Example 2.13, following is a `while`construct example in `C`.\n",
    "\n",
    "```c\n",
    "#include <stdio.h>\n",
    "\n",
    "int main()\n",
    "{\n",
    "    int counter = 1;\n",
    "    int max_lim = 11;\n",
    "    while (counter < max_lim)\n",
    "    {\n",
    "        printf(\"%d\\n\",counter);\n",
    "        counter++;\n",
    "    }\n",
    "    return 0;\n",
    "}\n",
    "\n",
    "```\n",
    "\n",
    "`C++`\n",
    "\n",
    "```c++\n",
    "#include <iostream>\n",
    "using namespace std;\n",
    "\n",
    "int main()\n",
    "{\n",
    "    int counter = 1;\n",
    "    int max_lim = 11;\n",
    "    while (counter < max_lim)\n",
    "    {\n",
    "        cout << counter << endl;\n",
    "        counter++;\n",
    "    }\n",
    "    return 0;\n",
    "}\n",
    "\n",
    "```\n",
    "\n",
    "`Java`\n",
    "```Java\n",
    "package Java;\n",
    "\n",
    "public class While {\n",
    "\tpublic static void main (String [] args) {\n",
    "\t\tJava (1,11);\n",
    "\t}\n",
    "\n",
    "\tpublic static void Java (int counter, int max_lim ) {\n",
    "\t\twhile (counter < max_lim) {\n",
    "\t\t\tSystem.out.println(counter);\n",
    "\t\t\tcounter ++;\n",
    "\t\t}\n",
    "\t}\n",
    "}\n",
    "```\n",
    "\n",
    "\n",
    "`Javascript`\n",
    "\n",
    "```javascript\n",
    "var counter = 1;\n",
    "var max_lim = 11;\n",
    "var text = \"\";\n",
    "while (counter) {\n",
    "  text += counter + \"<br>\";\n",
    "  counter++;\n",
    "}\n",
    "document.getElementById(\"demo\").innerHTML = text;\n",
    "```\n",
    "\n",
    "`Shell/Bash`\n",
    "\n",
    "```bash\n",
    "counter=1\n",
    "max_lim=11\n",
    "while [ $counter -lt $max_lim ]\n",
    "do\n",
    "    echo $counter\n",
    "    counter=$(( $counter+1 ))\n",
    "done\n",
    "```"
   ]
  },
  {
   "cell_type": "markdown",
   "metadata": {},
   "source": [
    "### `while` & `else`\n",
    "\n",
    "`else` can be paired with `while`, like the following."
   ]
  },
  {
   "cell_type": "code",
   "execution_count": null,
   "metadata": {},
   "outputs": [],
   "source": [
    "# Example 2.15\n",
    "# Simple programme that counts from 1 to 10, with else\n",
    "\n",
    "counter = 1\n",
    "max_lim = 11\n",
    "print(\"Let's go!\")\n",
    "while counter < max_lim:\n",
    "    print (counter)\n",
    "    counter += 1   \n",
    "else:\n",
    "    print(\"We have reached the end.\")\n",
    "    print(\"The value that returned false is\", counter, \".\")"
   ]
  },
  {
   "cell_type": "markdown",
   "metadata": {},
   "source": [
    "Basically, when the expression is false, the code executes the `else` block. It is commonly used to execute codes when the `while` loop is finished.\n",
    "\n",
    "## Examples with `while`\n",
    "\n",
    "`while` lets us create a lot of repetitive work with ease, like the multiplication table for a number that you did not memorise."
   ]
  },
  {
   "cell_type": "code",
   "execution_count": null,
   "metadata": {},
   "outputs": [],
   "source": [
    "# Example 2.16\n",
    "# Multiplication table for base number\n",
    "\n",
    "base = 19     # change base number to get different multiples\n",
    "max_lim = 50\n",
    "counter = 1\n",
    "\n",
    "while counter <= max_lim:\n",
    "    print(counter, \"*\", base, \"= \", base * counter)\n",
    "    counter += 1"
   ]
  },
  {
   "cell_type": "markdown",
   "metadata": {},
   "source": [
    "We can also adapt Example 1.19, and calculate a range of areas of circles with different radii."
   ]
  },
  {
   "cell_type": "code",
   "execution_count": null,
   "metadata": {},
   "outputs": [],
   "source": [
    "# Example 2.17\n",
    "# Adapted from Example 1.19, calculates a range of areas of circles with different radii.\n",
    "\n",
    "PI = 3.14159  # pi constant value\n",
    "radius = float(input('Input beginning radius in cm: ')) \n",
    "max_lim = float(input('Input largest radius in cm: '))\n",
    "\n",
    "while radius <= max_lim:\n",
    "    area = PI * (radius)**2\n",
    "    print('Area of a circle with radius ', radius,  ' cm is ' ,area , ' cm^2')\n",
    "    radius += 1"
   ]
  },
  {
   "cell_type": "markdown",
   "metadata": {},
   "source": [
    "Note that in `while` loops, it is a common practice to add the increment statement, like `radius += 1` at the last line of the `while` block. \n",
    "\n",
    "You can also change the increment value to other values, and have different ranges for the loop."
   ]
  },
  {
   "cell_type": "markdown",
   "metadata": {},
   "source": [
    "## Fibonacci series (Example)\n",
    "\n",
    "The Fibonacci series is a sequence of numbers that has the next number in the sequence as the sum of the current and the previous number.\n",
    "\n",
    "For example, if we start from 0, the Fibonacci series is:\n",
    "0 1 1 2 3 5 8 13 21 34 ...\n",
    "\n",
    "With `while`, we can replicate the Fibonacci series like this:\n"
   ]
  },
  {
   "cell_type": "code",
   "execution_count": null,
   "metadata": {},
   "outputs": [],
   "source": [
    "# Example 2.18\n",
    "# The Fibonacci series that ends before max_lim\n",
    "\n",
    "a = 0\n",
    "b = 1\n",
    "max_lim = 500\n",
    "\n",
    "while a < max_lim:\n",
    "    print (a)\n",
    "    c = b       # c is a temporary variable\n",
    "    b = b + a\n",
    "    a = c"
   ]
  },
  {
   "cell_type": "markdown",
   "metadata": {},
   "source": [
    "## `break` & `continue` in loops\n",
    "\n",
    "`break` & `continue` are special statements that can be used in loops to do certain things when a condition is met.\n",
    "\n",
    "`break` skips the rest of the code in the loop, exits the loop, and continues with codes after the loop.\n",
    "\n",
    "`continue` skips the rest of the code in the loop, goes back to the beginning of the loop, and runs the loop again."
   ]
  },
  {
   "cell_type": "code",
   "execution_count": null,
   "metadata": {},
   "outputs": [],
   "source": [
    "# Example 2.19\n",
    "# break statement in while loop, based on Example 2.13\n",
    "# The programme will not run until max_lim, but stops at break_val\n",
    "\n",
    "counter = 1\n",
    "max_lim = 11\n",
    "break_val = 5                  # added line\n",
    "while counter < max_lim:\n",
    "    print (counter)\n",
    "    if counter == break_val:   # added line\n",
    "        break                  # added line, stop loop\n",
    "    counter += 1    "
   ]
  },
  {
   "cell_type": "code",
   "execution_count": null,
   "metadata": {},
   "outputs": [],
   "source": [
    "# Example 2.20\n",
    "# continue statement in while loop, based on Example 2.13\n",
    "# The programme will skip cont_val\n",
    "\n",
    "counter = 0                   # changed initialization value\n",
    "max_lim = 11\n",
    "cont_val = 5                  # added line\n",
    "while counter < max_lim:      \n",
    "    counter += 1              # the sequence of the code\n",
    "    if counter == cont_val:   # have been changed to make it work\n",
    "        continue   \n",
    "    print (counter)"
   ]
  },
  {
   "cell_type": "code",
   "execution_count": null,
   "metadata": {},
   "outputs": [],
   "source": [
    "# Example 2.21\n",
    "# continue statement in while loop, but code sequence is similar to Example 2.19\n",
    "# The code has an infinite loop\n",
    "\n",
    "counter = 1                   \n",
    "max_lim = 11\n",
    "cont_val = 5                  \n",
    "while counter < max_lim:      \n",
    "    print (counter)\n",
    "    if counter == cont_val:   \n",
    "        continue              # only this line is different from Example 2.19\n",
    "    counter += 1  "
   ]
  },
  {
   "cell_type": "markdown",
   "metadata": {},
   "source": [
    "## The Number Guessing Game (2)\n",
    "\n",
    "With `while` and `if`, we can make a better number guessing game.\n",
    "\n",
    "### Multiple attempts\n",
    "\n",
    "The `while` construct gives us multiple attempts to guess the number."
   ]
  },
  {
   "cell_type": "code",
   "execution_count": null,
   "metadata": {},
   "outputs": [],
   "source": [
    "# Example 2.22\n",
    "# A simple number guessing game, based on Example 2.12.\n",
    "# Game never stops until the right answer is given.\n",
    "\n",
    "answer = 5\n",
    "\n",
    "guess = int(input(\"Guess a number from 1 to 10:\\n\"))\n",
    "\n",
    "while guess != answer:            # loop indefinitely until the right answer is given\n",
    "    print(\"Ooops, try again.\")\n",
    "    guess = int(input(\"Guess again: \\n\"))\n",
    "else:\n",
    "    print(\"Bingo! You are right!\")"
   ]
  },
  {
   "cell_type": "markdown",
   "metadata": {},
   "source": [
    "### Narrow down the range\n",
    "\n",
    "We can use `if` to help the player narrow down the range. \n",
    "\n",
    "For better codes, we set the range variables for the game.\n",
    "\n",
    "We also used `\\` in line 9 for code continuation."
   ]
  },
  {
   "cell_type": "code",
   "execution_count": null,
   "metadata": {},
   "outputs": [],
   "source": [
    "# Example 2.23\n",
    "# ifs will narrow down the guessing range.\n",
    "# This is better for the player.\n",
    "\n",
    "answer = 5\n",
    "smallest = 1\n",
    "largest = 10\n",
    "\n",
    "game_start = \"Guess a number from \" + str(smallest) \\\n",
    "             + \" to \" + str(largest) + \":\\n\"\n",
    "guess = int(input(game_start))\n",
    "\n",
    "while guess != answer:\n",
    "    if guess > answer:                    # if block helps\n",
    "        print(\"Try a smaller number.\")    # to narrow guessing range\n",
    "    else:\n",
    "        print(\"Try a larger number.\")\n",
    "    guess = int(input(\"Guess again: \\n\"))\n",
    "else:\n",
    "    print(\"Bingo! You are right!\")"
   ]
  },
  {
   "cell_type": "markdown",
   "metadata": {},
   "source": [
    "### Random numbers\n",
    "\n",
    "So far, we have fixed the answer of the guessing game.\n",
    "\n",
    "We introduce another function for random number generators. That way, every time the programme runs, the answer is random. Even the programmer doesn't know the answer when the game is run.\n",
    "\n",
    "We will use `import random` to allow us to call the function we need from the `random` module. We will discuss more about modules and `import` in later chapters.\n",
    "\n",
    "`random.randint(low,high)` gives us a random number between `low` and `high` with both numbers included.\n",
    "\n",
    "We use this random number and assign it to `answer`."
   ]
  },
  {
   "cell_type": "code",
   "execution_count": null,
   "metadata": {},
   "outputs": [],
   "source": [
    "# Example 2.24\n",
    "# The guessing game with a random answer.\n",
    "\n",
    "import random    # import random module\n",
    "\n",
    "smallest = 1\n",
    "largest = 10\n",
    "answer = random.randint(smallest,largest)      # random number assigned\n",
    "\n",
    "game_start = \"Guess a number from \" + str(smallest) \\\n",
    "             + \" to \" + str(largest) + \":\\n\"\n",
    "guess = int(input(game_start))\n",
    "\n",
    "while guess != answer:\n",
    "    if guess > answer:                    \n",
    "        print(\"Try a smaller number.\")    \n",
    "    else:\n",
    "        print(\"Try a larger number.\")\n",
    "    guess = int(input(\"Guess again: \\n\"))\n",
    "else:\n",
    "    print(\"Bingo! You are right!\")"
   ]
  },
  {
   "cell_type": "markdown",
   "metadata": {},
   "source": [
    "###  Limited tries\n",
    "\n",
    "We can make the game more challenging by giving a limited number of tries, instead of guessing the number until a right one is found.\n",
    "\n",
    "We need to have a counter to help us keep track the number of tries the player has used, and also set the maximum number of tries allowed.\n",
    "\n",
    "We used `tries` for the counter, and `max_tries` for the maximum number of tries.\n",
    "\n",
    "We also have to add extra conditions in the `while` loop."
   ]
  },
  {
   "cell_type": "code",
   "execution_count": null,
   "metadata": {},
   "outputs": [],
   "source": [
    "# Example 2.25\n",
    "# The guessing game with limited tries.\n",
    "\n",
    "import random    \n",
    "\n",
    "tries = 1        # tries value is set, a counter to track the number of tries\n",
    "max_tries = 3    # the maximum number of tries\n",
    "\n",
    "smallest = 1\n",
    "largest = 10\n",
    "answer = random.randint(smallest,largest)\n",
    "\n",
    "game_start = \"Guess a number from \" + str(smallest) \\\n",
    "             + \" to \" + str(largest) + \":\\n\"\n",
    "\n",
    "# Add new message telling player the maximum number of tries\n",
    "game_start = game_start + \"(You have only \" + str(max_tries) + \" tries.)\\n\"\n",
    "guess = int(input(game_start))\n",
    "\n",
    "while guess != answer and tries < max_tries:   # we added an extra condition for the while statement\n",
    "    if guess > answer:                    \n",
    "        print(\"Try a smaller number.\")    \n",
    "    else:\n",
    "        print(\"Try a larger number.\")\n",
    "    guess = int(input(\"Guess again: \\n\"))\n",
    "    tries += 1                                 # the number of tries updated here\n",
    "else:\n",
    "    if guess != answer and tries >= max_tries: # extra condition after else\n",
    "        print(\"Oops, you reached your try limit. Bye!\")\n",
    "    else:\n",
    "        print(\"Bingo! You are right!\")"
   ]
  },
  {
   "cell_type": "markdown",
   "metadata": {},
   "source": [
    "###### Nested `if`s and nested loops\n",
    "\n",
    "`if` statements can be included within another `if` statement. These are called **nested `if`s**.\n",
    "\n",
    "Likewise, loops can also be **nested**. But we will look at nested loops later.\n",
    "\n",
    "In fact, you already have encountered some nested `if`s in the Number Guessing Game already.\n",
    "\n",
    "Let's look at a nested `if` example:"
   ]
  },
  {
   "cell_type": "code",
   "execution_count": null,
   "metadata": {},
   "outputs": [],
   "source": [
    "# Example 2.26\n",
    "# Nested if example for a drink order.\n",
    "# This is just an example, but not an efficient one.\n",
    "\n",
    "###\n",
    "# Text outputs\n",
    "option = \"Do you want coffee or tea? \\nChoose: \\n(1) for coffee \\n(2) for tea\\n\"\n",
    "cof_option = \"Do you want white coffee or kopi? \\n(1) white coffee \\n(2) kopi\\n\"\n",
    "cof1 = \"OK, Ah Huat White Coffee for you.\"\n",
    "cof2 = \"Alrighty, this is your kopi.\"\n",
    "cof3 = \"Hmmm, I'll just get you any coffee then.\"\n",
    "tea = \"Alright, I will get you tea, but our tea doesn't come with any sugar or milk. \"\n",
    "unknown = \"I'm sorry, I cannot understand you. I'll get my manager to serve you.\"\n",
    "\n",
    "###\n",
    "drink = int(input(option))\n",
    "\n",
    "if drink == 1:          # Coffee\n",
    "    cof_type = int(input(cof_option) )\n",
    "    if cof_type == 1:   # nested if block starts here\n",
    "        print(cof1)\n",
    "    elif cof_type == 2:\n",
    "        print(cof2)\n",
    "    else:\n",
    "        print(cof3)\n",
    "elif drink ==2:         # Tea\n",
    "    print(tea)\n",
    "else:\n",
    "    print(unknown)"
   ]
  },
  {
   "cell_type": "markdown",
   "metadata": {},
   "source": [
    "## Basic console design\n",
    "\n",
    "A `while` loop also allows us to design a basic game console, like the following:"
   ]
  },
  {
   "cell_type": "code",
   "execution_count": null,
   "metadata": {},
   "outputs": [],
   "source": [
    "# Example 2.27\n",
    "# Basic game console\n",
    "# Asks for player to input name repeatedly, run the game, until `q` or `Q` is pressed.\n",
    "\n",
    "welcome_msg = \"Welcome to the Game!\\n\"\n",
    "again_msg = \"Let's play again!\\n\"\n",
    "console_msg = \"Input Player name:\\n(Press Q to quit)\\n\"\n",
    "divider = \"=\" * 30\n",
    "\n",
    "player1 = input(welcome_msg + console_msg)\n",
    "\n",
    "while (player1 != 'q' and player1 != 'Q'):\n",
    "    print (divider)\n",
    "    print (\"Welcome\", player1,\"\\n\\n\")\n",
    "    print (\"This is where the game takes over.\\n\\n\")  # Put in game codes here\n",
    "    print (\"Uh oh, GAME OVER.\\n\")\n",
    "    print (divider)\n",
    "    player1 = input(again_msg + console_msg)\n",
    "else:\n",
    "    print (\"Bye bye!\")"
   ]
  },
  {
   "cell_type": "markdown",
   "metadata": {},
   "source": [
    "In line 8, we used the multiplication operator `*` to create repeated characters of `=`. \n",
    "\n",
    "In lines 10 & 18, we used the `+` operator to concatentate two strings together to give different output to the player in different parts of the game. \n",
    "\n",
    "We will discuss more about string manipulation in the next chapter.\n",
    "\n",
    "The `while` statement in line 12 has two logical expressions connected with `and`, so that we include small case `q` and large case `Q` from the player's input.\n",
    "\n",
    "The game will not end, unless you press `q` or `Q` to quit the game.\n",
    "\n"
   ]
  },
  {
   "cell_type": "markdown",
   "metadata": {},
   "source": [
    "## Spot the error(s)\n",
    "\n",
    "Try and fix the following codes."
   ]
  },
  {
   "cell_type": "code",
   "execution_count": null,
   "metadata": {},
   "outputs": [],
   "source": [
    "# Error 2.1\n",
    "\n",
    "a = 3\n",
    "b = 3\n",
    "print (a = b)"
   ]
  },
  {
   "cell_type": "code",
   "execution_count": null,
   "metadata": {},
   "outputs": [],
   "source": [
    "# Error 2.2\n",
    "\n",
    "BIG = 100\n",
    "SMALL = 12\n",
    "\n",
    "if BIG < SMALL:\n",
    "print(BIG, 'is less than', small)\n",
    "else:\n",
    "print(BIG, 'is greater than', small)"
   ]
  },
  {
   "cell_type": "code",
   "execution_count": null,
   "metadata": {},
   "outputs": [],
   "source": [
    "# Error 2.3\n",
    "# Count from 1 to 10 apple(s), try fix the bug\n",
    "\n",
    "apple = 1\n",
    "while apple < 10:\n",
    "    print (apple, \"apple(s)\")\n",
    "    apple += 1    "
   ]
  },
  {
   "cell_type": "code",
   "execution_count": null,
   "metadata": {},
   "outputs": [],
   "source": [
    "# Error 2.4\n",
    "# I love you 3000!\n",
    "# There's one syntax error and one bug here\n",
    "\n",
    "counter = 1\n",
    "while counter <= 3000\n",
    "    print(\"I love you \", counter, \" !\")"
   ]
  },
  {
   "cell_type": "code",
   "execution_count": null,
   "metadata": {},
   "outputs": [],
   "source": [
    "# Error 2.5\n",
    "# There is no error here, but a bug that needs to be fixed.\n",
    "\n",
    "answer = 5\n",
    "guess = input(\"Guess a number from 1 to 10:\\n\")\n",
    "if answer == guess:\n",
    "    print(\"Bingo! You are right!\")\n",
    "else:\n",
    "    print(\"Ooops, sorry try again next time.\")"
   ]
  },
  {
   "cell_type": "markdown",
   "metadata": {},
   "source": [
    "## Exercises"
   ]
  },
  {
   "cell_type": "markdown",
   "metadata": {},
   "source": [
    "### Exercise 2.1\n",
    "Find the cubes of the first 10 non-zero integers using a while loop.\n",
    "\n",
    "i.e. find $1^3, 2^3, ..., 10^3$"
   ]
  },
  {
   "cell_type": "code",
   "execution_count": null,
   "metadata": {},
   "outputs": [],
   "source": [
    "# Exercise 2.1"
   ]
  },
  {
   "cell_type": "markdown",
   "metadata": {},
   "source": [
    "### Exercise 2.2\n",
    "\n",
    "Similar to Exercise 1.4, but convert metres to feet. \n",
    "\n",
    "By using a while loop, find the distance in feet from 0m to 100m, with increments of 10m.\n",
    "\n",
    "i.e. find the values in feet for 0m, 10m, 20m ,, ..., 100m"
   ]
  },
  {
   "cell_type": "code",
   "execution_count": null,
   "metadata": {},
   "outputs": [],
   "source": [
    "# Exercise 2.2"
   ]
  },
  {
   "cell_type": "markdown",
   "metadata": {},
   "source": [
    "### Exercise 2.3\n",
    "Repeat Exercise 1.7, for $t$ = 0 to 2.0, with increments of 0.1, i.e, use $t$ = 0.0, 0.1, 0.2, ..., 2.0"
   ]
  },
  {
   "cell_type": "code",
   "execution_count": null,
   "metadata": {},
   "outputs": [],
   "source": [
    "# Exercise 2.3"
   ]
  },
  {
   "cell_type": "markdown",
   "metadata": {},
   "source": [
    "### Exercise 2.4\n",
    "\n",
    "Using a while loop, write a programme that calculates the sum of the first $n$ terms of an intial value integer. The integer increment has to be 1.\n",
    "\n",
    "For example, you may try to find the sum of 1, 2, 3, ..., 98, 99, 100. In this case, 1 is the initial value, and $n=100$. \n",
    "\n",
    "Or, find the sum of 1, 2, 3, ..., 998, 999, 1000. In this case, 1 is the initial value, and $n=1000$. \n",
    "\n",
    "If you know SPM math, there's actually a formula to find the sum. We just want to show you that a computer can do the same thing with loops."
   ]
  },
  {
   "cell_type": "code",
   "execution_count": null,
   "metadata": {},
   "outputs": [],
   "source": [
    "# Exercise 2.4"
   ]
  },
  {
   "cell_type": "markdown",
   "metadata": {},
   "source": [
    "### Exercise 2.5\n",
    "\n",
    "According to Tenaga Nasional, the electric tariff rates per month for a Domestic Consumer (Tariff A) in Malaysia as of 1 Jan 2018 is as follows:\n",
    "\n",
    "First 200 kWh (1-200), 21.80 sen/kWh\n",
    "\n",
    "Next 100 kWh (201-300), 33.40 sen/kWh\n",
    "\n",
    "Next 300 kWh (301-600), 51.60 sen/kWh\n",
    "\n",
    "Next 300 kWh (601-900), 54.60 sen/kWh\n",
    "\n",
    "Next kWh onwards (901 onwards), 57.10 sen/kwh\n",
    "\n",
    "The minimimum monthly charge is RM 3.00\n",
    "\n",
    "\n",
    "Write a programme that asks the user to input the total kWh used, and will calculate the user's monthly electric bill."
   ]
  },
  {
   "cell_type": "code",
   "execution_count": null,
   "metadata": {},
   "outputs": [],
   "source": [
    "# Exercise 2.5"
   ]
  },
  {
   "cell_type": "markdown",
   "metadata": {},
   "source": [
    "### Exercise 2.6\n",
    "\n",
    "From Example 2.10, improve the programme with more `if` constructs, so that all English grammatical errors will not appear.\n",
    "\n",
    "Also, when the days is less than a week, it will give the output like\n",
    "\n",
    "    Oh, 6 days is less than a week.\n",
    "\n",
    "\n",
    "Test your programme with 2, 7, 10, 14 & 25 days. Use nested `if`s when necessary."
   ]
  },
  {
   "cell_type": "code",
   "execution_count": null,
   "metadata": {},
   "outputs": [],
   "source": [
    "# Exercise 2.6"
   ]
  },
  {
   "cell_type": "markdown",
   "metadata": {},
   "source": [
    "### Exercise 2.7\n",
    "From the `random` module, use `random.randint(1,6)` to simulate a random dice roll for players.\n",
    "\n",
    "Show the roll of the dice by using the `print()` function.\n",
    "\n",
    "If the dice returns `6`, the player gets another roll of the dice.\n",
    "\n",
    "If the player gets two rolls, remember to sum up the numbers of the two rolls."
   ]
  },
  {
   "cell_type": "code",
   "execution_count": null,
   "metadata": {},
   "outputs": [],
   "source": [
    "# Exercise 2.7"
   ]
  },
  {
   "cell_type": "markdown",
   "metadata": {},
   "source": [
    "### Exercise 2.8\n",
    "Use Example 2.25 (Number Guessing Game) as reference, add a feature that prints out a message, telling the player how many tries it has left.\n",
    "\n",
    "For example, it should have\n",
    "\n",
    "`Try a larger/smaller number.`\n",
    "\n",
    "`(You have x tries left)` \n",
    "\n",
    "where `x` has to be replaced by the number of tries left.\n",
    "\n",
    "If the player didn't get the right answer after all the tries, add a feature that tells the player the right answer at the end of the game."
   ]
  },
  {
   "cell_type": "code",
   "execution_count": null,
   "metadata": {},
   "outputs": [],
   "source": [
    "# Exercise 2.8"
   ]
  },
  {
   "cell_type": "markdown",
   "metadata": {},
   "source": [
    "---\n",
    "\n",
    "# Lecture 2 Summary\n",
    "\n",
    "\n",
    "The **compare operators** between two values will give either `True` or `False` Boolean values in a logical expression, and they are:\n",
    "\n",
    "`==` equal to\n",
    "\n",
    "`!=` not equal to\n",
    "\n",
    "`>` greater than\n",
    "\n",
    "`<` less than\n",
    "\n",
    "`>=` greater than or equal to\n",
    "\n",
    "`<=` less than or equal to \n",
    "\n",
    "\n",
    "There are also the **logical operators** `and`, `or` and `not`.\n",
    "\n",
    "\n",
    "The `bool()` function returns a Boolean value.\n",
    "\n",
    "---\n",
    "\n",
    "Assignments can be written compactly as in: `c += 1`, which is the same as `c = c + 1`.\n",
    "\n",
    "The same compact notation applies to other operators.\n",
    "\n",
    "---\n",
    "\n",
    "An `if` construct can include `if... else if... else` to branch out and execute blocks of code when certain conditions are met.\n",
    "\n",
    "A `while` statement runs a loop when its condition is `True`. `else` can be paired with `while`.\n",
    "\n",
    "Counters or conditions in `while` loop has to be designed carefully. If not properly set, the loop may result in an infinite loop.\n",
    "\n",
    "`break` and `continue` statements can be used with a loop. \n",
    "\n",
    "A `break` statement skips the following codes and exits the loop it is in.\n",
    "\n",
    "A `continue` statement skips the following codes and runs the loop again.\n",
    "\n",
    "`if` and `while` blocks have to be properly indented, which is four(4) white spaces ` `, or a `Tab` character.\n",
    "\n",
    "---\n",
    "\n",
    "Use `\\` for line continuation."
   ]
  }
 ],
 "metadata": {
  "kernelspec": {
   "display_name": "Python 3",
   "language": "python",
   "name": "python3"
  },
  "language_info": {
   "codemirror_mode": {
    "name": "ipython",
    "version": 3
   },
   "file_extension": ".py",
   "mimetype": "text/x-python",
   "name": "python",
   "nbconvert_exporter": "python",
   "pygments_lexer": "ipython3",
   "version": "3.6.9"
  }
 },
 "nbformat": 4,
 "nbformat_minor": 2
}
