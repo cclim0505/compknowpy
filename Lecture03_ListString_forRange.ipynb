{
 "cells": [
  {
   "cell_type": "markdown",
   "metadata": {},
   "source": [
    "---\n",
    "title: Introduction to progrmamming with Python 3\n",
    "\n",
    "author: ccLim, cclim@epcombb.org, cclim.0505@gmail.com\n",
    "\n",
    "date: 02 May 2020\n",
    "\n",
    "---\n",
    "\n",
    "# Lecture 3 - Lists, Strings and their methods; `for` loop and `range()`"
   ]
  },
  {
   "cell_type": "markdown",
   "metadata": {},
   "source": [
    "## Lists & elements\n",
    "\n",
    "All the variables we looked at in previous lectures can each hold a single value, like\n",
    "\n",
    "```\n",
    "fruits = 10\n",
    "\n",
    "price = 2.50 \n",
    "\n",
    "answer = True\n",
    "\n",
    "```\n",
    "\n",
    "We show here **lists** in Python can hold more than one value.\n",
    "\n",
    "Take the following examples"
   ]
  },
  {
   "cell_type": "code",
   "execution_count": null,
   "metadata": {},
   "outputs": [],
   "source": [
    "# Example 3.1\n",
    "# Lists in Python\n",
    "\n",
    "empty = []                             # an empty list\n",
    "squares = [1, 4, 9, 16, 25]            # the squares of the first 5 positive integers\n",
    "fruits = [2, 2, 5, 10]                 # the number of fruits bought\n",
    "pricing = [2.20, 3.10, 5.00, 4.55]     # the pricing for a list of items\n",
    "ans = [True, True, False, False]       # Boolean values in list form\n",
    "\n",
    "print (empty) # You can print other variables"
   ]
  },
  {
   "cell_type": "markdown",
   "metadata": {},
   "source": [
    "A list is initialiased with a variable name followed by a pair of square brackets/parentheses `[]`.\n",
    "\n",
    "Each value in the list is called an **element （元素）**. Each element is separate by a comma `,`.\n",
    "\n",
    "There is no element in `empty`.\n",
    "\n",
    "`1`, `4`, `9` are the first three elements of `squares`.\n",
    "\n",
    "`10` is the last element in `fruits`.\n",
    "\n",
    "Lists are indexed, that means each element in the list is numbered and the index (plural *indices*)（指数） starts from `0`.\n",
    "\n",
    "For example, to access the first three elements of `squares`, we use `[]` after the variable name, and put  `0`, `1` & `2` in the `[]`."
   ]
  },
  {
   "cell_type": "code",
   "execution_count": null,
   "metadata": {},
   "outputs": [],
   "source": [
    "# Example 3.2\n",
    "# Calling individual elements of a list\n",
    "\n",
    "squares = [1, 4, 9, 16, 25] \n",
    "print(squares[0])\n",
    "print(squares[1])\n",
    "print(squares[2])"
   ]
  },
  {
   "cell_type": "markdown",
   "metadata": {},
   "source": [
    "You can also use `while` to print each element in the list in a new line."
   ]
  },
  {
   "cell_type": "code",
   "execution_count": null,
   "metadata": {},
   "outputs": [],
   "source": [
    "# Example 3.3\n",
    "# Using a while loop to call individual elements of a list\n",
    "\n",
    "squares = [1, 4, 9, 16, 25] \n",
    "counter = 0\n",
    "while counter < 3:\n",
    "    print(squares[counter])\n",
    "    counter += 1"
   ]
  },
  {
   "cell_type": "markdown",
   "metadata": {},
   "source": [
    "The indices can also take negative numbers. `-1` takes the last element, while `-2` takes the second last and so on."
   ]
  },
  {
   "cell_type": "code",
   "execution_count": null,
   "metadata": {},
   "outputs": [],
   "source": [
    "# Example 3.4\n",
    "# Using negative integer indices\n",
    "\n",
    "pricing = [2.20, 3.10, 5.00, 4.55]\n",
    "print(pricing[-1])\n",
    "print(pricing[-3])"
   ]
  },
  {
   "cell_type": "markdown",
   "metadata": {},
   "source": [
    "Lists can also be **sliced**, using `:` inside `[]` to return a shallow copy of the list.\n",
    "\n",
    "The index before `:` indicates the first element to be included in the slicing, and the index after `:` indicates the stopping element in the slicing and not included in the sliced list."
   ]
  },
  {
   "cell_type": "code",
   "execution_count": null,
   "metadata": {},
   "outputs": [],
   "source": [
    "# Example 3.5\n",
    "# List slicing\n",
    "\n",
    "cubes = [1, 8, 27, 64, 125, 216, 343, 512]\n",
    "\n",
    "part0 = cubes [:]    # the same as part0 = cubes\n",
    "part1 = cubes [1:3]  # slice from second element until the third element\n",
    "part2 = cubes [:4]   # the same as part2 = cubes [0:4]\n",
    "part3 = cubes [4:]   # slice from fourth element until the end\n",
    "\n",
    "# Can you guess before printing?\n",
    "print(part0)        "
   ]
  },
  {
   "cell_type": "markdown",
   "metadata": {},
   "source": [
    "You can also create new lists by concatenating different lists together, with the `+` operator."
   ]
  },
  {
   "cell_type": "code",
   "execution_count": null,
   "metadata": {},
   "outputs": [],
   "source": [
    "# Example 3.5\n",
    "# List concatenation\n",
    "\n",
    "squares = [1, 4, 9, 16, 25, 36, 49, 64] \n",
    "cubes = [1, 8, 27, 64, 125, 216, 343, 512]\n",
    "\n",
    "part01 = squares[:4]\n",
    "part02 = cubes[4:]\n",
    "newList = part01 + part02\n",
    "\n",
    "print(newList)"
   ]
  },
  {
   "cell_type": "markdown",
   "metadata": {},
   "source": [
    "You can also change the individual elements by reassigning the elements."
   ]
  },
  {
   "cell_type": "code",
   "execution_count": null,
   "metadata": {},
   "outputs": [],
   "source": [
    "# Example 3.6\n",
    "# Updating elements in lists\n",
    "\n",
    "pricing = [2.20, 3.10, 5.00, 4.55]     \n",
    "ans = [True, True, False, False] \n",
    "\n",
    "pricing[0] = 1.00\n",
    "ans[2] = True\n",
    "ans[3] = not(ans[3])            \n",
    "\n",
    "print(pricing)\n",
    "print(ans)"
   ]
  },
  {
   "cell_type": "markdown",
   "metadata": {},
   "source": [
    "You can think of a list as a variable that holds a list of elements of the same data type. \n",
    "\n",
    "This is true in most programming languages.\n",
    "\n",
    "But in Python, a list can hold elements from different data types.\n",
    "\n",
    "For example, the following lists hold multiple information about different fictional characters."
   ]
  },
  {
   "cell_type": "code",
   "execution_count": null,
   "metadata": {},
   "outputs": [],
   "source": [
    "## Example 3.7\n",
    "# Mixed data type list\n",
    "\n",
    "user1 = [\"Jim Raynor\", 39, 195.2, \"human\" ]      # string, integer, float, string\n",
    "user2 = [\"Sarah Kerrigan\", 40, 180.5, \"hybrid\"]\n",
    "\n",
    "bear1 = [\"Ice Bear\", True, 3, \"polar bear\"]   # string, Boolean, integer, string\n",
    "bear2 = [\"Pan-Pan\", True, 2, \"panda\"]\n",
    "\n",
    "print(bear1)"
   ]
  },
  {
   "cell_type": "markdown",
   "metadata": {},
   "source": [
    "## Comments about lists, arrays, vectors and matrices\n",
    "\n",
    "Very often, you will encounter words like **arrays**, **vectors** and **matrices** (*matrix* in singular form) in computing and scientific topics.\n",
    "\n",
    "These are concepts related to lists in Python.\n",
    "\n",
    "When you learn other programming languages, especially `C` & `C++` , you will most likely learn arrays, because list is a type of array found in Python. \n",
    "\n",
    "If you wish to work with arrays in Python, the `numpy` (Numerical Python) module for scientific computing and data analysis is a good place to start. But let's stick to lists for the moment.\n",
    "\n",
    "In science and mathematics, they are usually called vectors. Arrays and vectors are interchangebale in most cases.\n",
    "\n",
    "Multidimensional arrays or vectors are usually called matrices.\n",
    "\n",
    "A list can also be an element of a list, that is a list within a list, or nested lists, much like nested `if`s and nested loops.\n",
    "\n",
    "### Collection data types\n",
    "List is one of the four collection data types in Python.\n",
    "\n",
    "Other collection data types in Python are Tuple, Set & Dictionary. We will not cover them here."
   ]
  },
  {
   "cell_type": "markdown",
   "metadata": {},
   "source": [
    "---\n",
    "\n",
    "## `for` loops\n",
    "Let's digress from lists, and learn another new loop construct, `for`.\n",
    "\n",
    "Say we have a `fruits` list variable, we can print each fruit in the list with the while loop and specifying the index of each element."
   ]
  },
  {
   "cell_type": "code",
   "execution_count": null,
   "metadata": {},
   "outputs": [],
   "source": [
    "# Example 3.8\n",
    "# Looping elements of a list\n",
    "\n",
    "fruits = [\"apple\", \"banana\", \"cherry\", \"durian\", \"egg plant\", \"fig\", \"grapes\", \"honeydew\", \"iris\", \"jackfruit\"]\n",
    "counter = 0 \n",
    "while counter < 10:\n",
    "    print(fruits[counter])\n",
    "    counter += 1"
   ]
  },
  {
   "cell_type": "markdown",
   "metadata": {},
   "source": [
    "If you notice, this is actually quite inefficient, because you need to know the number of elements in the `fruits` list, and set `counter` less than that.\n",
    "\n",
    "You can actually fix it with the `len()` function to get the number of elements in the list."
   ]
  },
  {
   "cell_type": "code",
   "execution_count": null,
   "metadata": {},
   "outputs": [],
   "source": [
    "# Example 3.9\n",
    "# Looping elements of a list alongside len() function\n",
    "\n",
    "fruits = [\"apple\", \"banana\", \"cherry\", \"durian\", \"egg plant\", \"fig\", \"grapes\", \"honeydew\", \"iris\", \"jackfruit\"]\n",
    "num = len(fruits)           # len function to get the number of elements in the list\n",
    "counter = 0 \n",
    "while counter < num:\n",
    "    print(fruits[counter])\n",
    "    counter += 1"
   ]
  },
  {
   "cell_type": "markdown",
   "metadata": {},
   "source": [
    "But, there is still a better way. That better way is the **`for`** loop.\n",
    "\n",
    "Let's look at the `for` loop method, with the same results, but with fewer lines of code.\n"
   ]
  },
  {
   "cell_type": "code",
   "execution_count": null,
   "metadata": {},
   "outputs": [],
   "source": [
    "# Example 3.10 \n",
    "# For loop example that gives the same result as Example 3.9.\n",
    "\n",
    "fruits = [\"apple\", \"banana\", \"cherry\", \"durian\", \"egg plant\", \"fig\", \"grapes\", \"honeydew\", \"iris\", \"jackfruit\"]\n",
    "for element in fruits:\n",
    "    print(element)"
   ]
  },
  {
   "cell_type": "markdown",
   "metadata": {},
   "source": [
    "You can read the `for` loop in English like this:\n",
    "\n",
    "```   \n",
    "For each element in the list, do something with that element.\n",
    "```\n",
    "\n",
    "Here's another example, where we have replaced `element` in the previous example with `x`. We also use the `cubes` list."
   ]
  },
  {
   "cell_type": "code",
   "execution_count": null,
   "metadata": {},
   "outputs": [],
   "source": [
    "# Example 3.11\n",
    "# Another for loop example\n",
    "\n",
    "cubes = [1, 8, 27, 64, 125, 216, 343, 512]\n",
    "for x in cubes:\n",
    "    print(x)"
   ]
  },
  {
   "cell_type": "markdown",
   "metadata": {},
   "source": [
    "### `range()` function\n",
    "\n",
    "The `for` loop is commonly paired with the `range()` function.\n",
    "\n",
    "`range()` is used to provide a list of integer numbers, and has the syntax:\n",
    "\n",
    "`range(start, stop, step)`, where `start` and `step` are optional arguments.\n",
    "\n",
    "Let's look at an example with the `range(stop)` form."
   ]
  },
  {
   "cell_type": "code",
   "execution_count": null,
   "metadata": {},
   "outputs": [],
   "source": [
    "# Example 3.12\n",
    "# For loop with range() function to produce values of squares\n",
    "\n",
    "for x in range(10):    # try changing the value in range()\n",
    "    print (x**2)"
   ]
  },
  {
   "cell_type": "markdown",
   "metadata": {},
   "source": [
    "The `range()` function creates a list of integers starting from 0 and ends before the `stop` integer. \n",
    "\n",
    "When we provide two arguments to `range()`, we are specifying the starting and ending integer.\n",
    "\n",
    "For example"
   ]
  },
  {
   "cell_type": "code",
   "execution_count": null,
   "metadata": {},
   "outputs": [],
   "source": [
    "# Example 3.13\n",
    "# range() with two arguments given\n",
    "\n",
    "for x in range(5,10):    # try changing the values in range()\n",
    "    print (x**2)"
   ]
  },
  {
   "cell_type": "markdown",
   "metadata": {},
   "source": [
    "If we provide three arguments to `range()`, we are giving the third argument as the step, like this\n"
   ]
  },
  {
   "cell_type": "code",
   "execution_count": null,
   "metadata": {},
   "outputs": [],
   "source": [
    "# Example 3.14\n",
    "# range() function with steps\n",
    "for x in range(0,100,5):    # try changing the values in range()\n",
    "    print (x**2)"
   ]
  },
  {
   "cell_type": "markdown",
   "metadata": {},
   "source": [
    "With `range()`, we can also easily create lists easily using alongside the `list()` function."
   ]
  },
  {
   "cell_type": "code",
   "execution_count": null,
   "metadata": {},
   "outputs": [],
   "source": [
    "# Example 3.15\n",
    "# Create lists with range()\n",
    "\n",
    "integers = list(range(0,20))  #list() function takes in the range() function as argument\n",
    "odds = list(range(1,20,2))\n",
    "evens = list(range(2,20,2))\n",
    "\n",
    "print(integers)"
   ]
  },
  {
   "cell_type": "markdown",
   "metadata": {},
   "source": [
    "The steps in `range()` can also be negative, and then you will have a reverse `range()`."
   ]
  },
  {
   "cell_type": "code",
   "execution_count": null,
   "metadata": {},
   "outputs": [],
   "source": [
    "# Example 3.16\n",
    "# Reverse range()\n",
    "\n",
    "reverse_int = list(range(20,0,-1))\n",
    "another_reverse = list(range(100,0,-10))\n",
    "\n",
    "print(revese_int)"
   ]
  },
  {
   "cell_type": "markdown",
   "metadata": {},
   "source": [
    "---\n",
    "\n",
    "## List methods\n",
    "\n",
    "There are a number of functions that are associated with the list datatype, and they can be called by adding a dot `.` after the name of the list variable, such as `list.function(`*`args`*`)`. \n",
    "\n",
    "`args` can be some value or can be left empty, depending on the function used.\n",
    "\n",
    "Let's look at the following examples."
   ]
  },
  {
   "cell_type": "code",
   "execution_count": null,
   "metadata": {},
   "outputs": [],
   "source": [
    "# Example 3.17\n",
    "# list.append() example\n",
    "\n",
    "integers = [0, 1, 2, 3]\n",
    "integers.append(4)     # list.append() here\n",
    "\n",
    "print(integers)"
   ]
  },
  {
   "cell_type": "markdown",
   "metadata": {},
   "source": [
    "The `list.append()` function here appends（附加） an element at the end of `list`.\n",
    "\n",
    "It can also be creatively used with for loops like this."
   ]
  },
  {
   "cell_type": "code",
   "execution_count": null,
   "metadata": {},
   "outputs": [],
   "source": [
    "# Example 3.18                                               \n",
    "# list.append() used in a for loop\n",
    "\n",
    "numberList = [0, 1, 2, 3]\n",
    "copy = numberList[:]\n",
    "\n",
    "for x in copy:\n",
    "    numberList.append(x**2)\n",
    "    \n",
    "print(numberList)"
   ]
  },
  {
   "cell_type": "markdown",
   "metadata": {},
   "source": [
    "There is also another way of creating the `squares` and `cubes` lists with `list.append`, `range()`, and `for` loops."
   ]
  },
  {
   "cell_type": "code",
   "execution_count": null,
   "metadata": {},
   "outputs": [],
   "source": [
    "# Example 3.19\n",
    "# Creating squares and cubes list with list.append, range() and for loop\n",
    "\n",
    "squares = []               # initialise empty list\n",
    "cubes = []\n",
    "\n",
    "for x in range(10):        # loop through the range of numbers\n",
    "    squares.append(x**2)   # append result into list\n",
    "    cubes.append(x**3)\n",
    "    \n",
    "print(squares)"
   ]
  },
  {
   "cell_type": "markdown",
   "metadata": {},
   "source": [
    "Similarly, here's another way of creating lists of odd and even integers."
   ]
  },
  {
   "cell_type": "code",
   "execution_count": null,
   "metadata": {},
   "outputs": [],
   "source": [
    "# Example 3.20\n",
    "# Creating lists of odd and even integers.\n",
    "# Similar to Example 3.15. It's not efficient, but to show you how things work.\n",
    "\n",
    "odd = []\n",
    "even = []\n",
    "\n",
    "for x in range(1,101):    # from 1 up to 100\n",
    "    if x % 2 == 0:\n",
    "        even.append(x)\n",
    "    else:\n",
    "        odd.append(x)\n",
    "print(odd)\n",
    "print(even)"
   ]
  },
  {
   "cell_type": "markdown",
   "metadata": {},
   "source": [
    "In short, always go for the most efficient and laziest way of doing things in programming, after all computers are designed to make things easy and efficient for us.\n",
    "\n",
    "The examples shown here are for instructional purposes, and you are advised to do your best to understand their use and underlying concepts.\n",
    "\n",
    "### Common list methods\n",
    "\n",
    "Some common list methods are\n",
    "\n",
    "+ `clear`, removes all elements from the list\n",
    "+ `count`, returns the number of elements with the specified value\n",
    "+ `extend`, add the elements of a ist, to the end of the current list\n",
    "+ `index`, returns the index of the first element with the specified value\n",
    "+ `insert`, adds an element at the specified position\n",
    "+ `pop`, removes the element at the specified position\n",
    "+ `remove`, removes the first item with the specified value\n",
    "+ `reverse`, reverses the order of the list\n",
    "+ `sort`, sorts the list\n",
    "\n",
    "Look at the example below that uses all the common list methods."
   ]
  },
  {
   "cell_type": "code",
   "execution_count": null,
   "metadata": {},
   "outputs": [],
   "source": [
    "# Example 3.21a\n",
    "# Imagine a man going for shopping at a supermarket\n",
    "\n",
    "\n",
    "fruits = [\"apple\", \"banana\", \"cherry\", \"durian\", \"egg plant\", \"fig\", \"grapes\", \"honeydew\", \"iris\", \"jackfruit\"]\n",
    "\n",
    "groceries = [\"banana\", \"broccoli\", \"carrot\", \"egg\", \"beef\", \"sardin\"]\n",
    "\n",
    "shopping = []    # initialise shopping list\n",
    "\n",
    "# Man decides to buy all the fruits listed in the fruits section\n",
    "shopping.extend(fruits)\n",
    "print(\"Shopping list after getting fruits: \", shopping)\n",
    "\n",
    "# Man decides to buy all the items on sale with special price\n",
    "shopping.extend(groceries)\n",
    "print(\"\\nShopping list after getting groceries: \", shopping)\n",
    "\n",
    "# Man goes to get rice\n",
    "shopping.append(\"rice\")\n",
    "print(\"\\nShopping list after adding rice: \", shopping)"
   ]
  },
  {
   "cell_type": "code",
   "execution_count": null,
   "metadata": {},
   "outputs": [],
   "source": [
    "# Example 3.21b\n",
    "\n",
    "# Man decides to sort his items alphabetically\n",
    "shopping.sort()\n",
    "print(\"\\nShopping list after sorting: \", shopping)\n",
    "\n",
    "# Man then decides to sort in reverse\n",
    "shopping.reverse()\n",
    "print(\"\\nShopping list after reverse sorting: \", shopping)\n",
    "\n",
    "# Man counts the number of items in his shopping list\n",
    "print(\"\\nThere are \", len(shopping) ,\"items in the shopping list\")\n",
    "\n",
    "# Man notices the bananas and counts them again\n",
    "print(\"\\nThere are \", shopping.count(\"banana\"), \"bananas.\")"
   ]
  },
  {
   "cell_type": "code",
   "execution_count": null,
   "metadata": {},
   "outputs": [],
   "source": [
    "# Example 3.21c\n",
    "\n",
    "# There are two bananas, man wants to return one\n",
    "shopping.remove(\"banana\")\n",
    "\n",
    "# Man counts again the number of items\n",
    "print(\"\\nThere are \", len(shopping) ,\"items in the shopping list\")\n",
    "\n",
    "# Man tries to decide the banana's priority in the list\n",
    "print(\"\\nBanana is number \", shopping.index(\"banana\")+1, \" on the list\")\n",
    "\n",
    "# Man decides to remove that index number associated with banana\n",
    "shopping.pop(shopping.index(\"banana\"))\n",
    "\n",
    "print(\"\\nShopping list is now: \", shopping)"
   ]
  },
  {
   "cell_type": "code",
   "execution_count": null,
   "metadata": {},
   "outputs": [],
   "source": [
    "# Example 3.21d\n",
    "\n",
    "# Man decides to add milk on the top of the list\n",
    "shopping.insert(0,\"milk\")\n",
    "print(\"\\nShopping list after getting milk is: \", shopping)\n",
    "\n",
    "# Man decides to sort again before paying\n",
    "shopping.sort()\n",
    "print(\"\\nThe final shopping list is now: \", shopping)\n",
    "\n",
    "# Man realises iris is a type of flower, not fruit, decides to remove iris\n",
    "shopping.remove(\"iris\")\n",
    "print(\"\\nThe FINAL shopping list is : \", shopping)\n",
    "\n",
    "# Man realises he has no cash nor credit, he gives up shopping.\n",
    "shopping.clear()\n",
    "print(\"\\nThe \\'FINAL FINAL\\' shopping list now has: \", shopping)"
   ]
  },
  {
   "cell_type": "markdown",
   "metadata": {},
   "source": [
    "## Comments on list objects\n",
    "\n",
    "You have seen that the list datatype can call built-in functions that are associated with it by using `.` after the name of the list. To be exact, these functions are called methods.\n",
    "\n",
    "However, you don't see other datatypes such as `int`, `float` and `bool` to have this kind of property. This is because the list datatype in Python is an **object**.\n",
    "\n",
    "Programming languages that allow objects, like `Python`, `C++` , `Java` & `Javascript` are called **object-oriented programming (OOP)** languages. Note that `C` and `Shell/Bash` introduced here in the examples do not have objects.\n",
    "\n",
    "OOP languages allows programmers to define class and its associated methods to create objects that can manipulate data with the methods.\n",
    "\n",
    "We will not cover object-oriented programming language here. But as for now, it is good enough for you to know that Python is an OOP language and lists in Python are objects."
   ]
  },
  {
   "cell_type": "markdown",
   "metadata": {},
   "source": [
    "---\n",
    "## Strings"
   ]
  },
  {
   "cell_type": "markdown",
   "metadata": {},
   "source": [
    "### String as arrays/list of characters\n",
    "\n",
    "What we have discussed about lists and their associated methods apply in an almost similar fashion for strings. \n",
    "\n",
    "This is because a string is made up of a list of characters. You can somewhat view them as Python lists made up of individual characters put together.\n",
    "\n",
    "You can slice strings, and call their methods.\n",
    "\n",
    "### String slicing\n",
    "\n",
    "\n",
    "\n",
    "\n"
   ]
  },
  {
   "cell_type": "code",
   "execution_count": null,
   "metadata": {},
   "outputs": [],
   "source": [
    "# Example 3.\n",
    "# String slicing\n",
    "\n",
    "msg = \"Hello, World!\"\n",
    "\n",
    "part01 = msg[0:5]\n",
    "part02 = msg[:6]\n",
    "part03 = msg[-6:]\n",
    "part04 = msg[6]\n",
    "part05 = msg[:6] + msg[7:]\n",
    "\n",
    "print(part05)\n",
    "\n",
    "print(msg == part05) # Is msg the same as part05?"
   ]
  },
  {
   "cell_type": "markdown",
   "metadata": {},
   "source": [
    "One thing to remember, is that string elements are immutable.\n",
    "\n",
    "You cannot change the element of a string as in a list like this:\n",
    "\n",
    "```\n",
    "squares = [0, 1, 4, 9, 16, 25]\n",
    "squares[1] = 10     # this gives squares as [0, 10, 4, 9, 16, 25]\n",
    "\n",
    "```"
   ]
  },
  {
   "cell_type": "code",
   "execution_count": null,
   "metadata": {},
   "outputs": [],
   "source": [
    "# Example 3.\n",
    "# The following will give an error message\n",
    "msg = \"Hello, World!\"\n",
    "msg[0] = \"h\""
   ]
  },
  {
   "cell_type": "markdown",
   "metadata": {},
   "source": [
    "To update a string, you have to reassign the string variable, or create a new one."
   ]
  },
  {
   "cell_type": "code",
   "execution_count": null,
   "metadata": {},
   "outputs": [],
   "source": [
    "# Example 3.\n",
    "# Reassign string variable to create new string\n",
    "\n",
    "msg = \"Hello, World!\" # Capital `H` and `W`\n",
    "print(msg)\n",
    "\n",
    "msg = \"hello, world!\" # Small letter `h` and `w`\n",
    "print(msg)"
   ]
  },
  {
   "cell_type": "markdown",
   "metadata": {},
   "source": [
    "### String methods\n",
    "\n",
    "Python provides numerous methods for the string datatype. We cannot cover all, but we show here some of the commonly used."
   ]
  },
  {
   "cell_type": "code",
   "execution_count": null,
   "metadata": {},
   "outputs": [],
   "source": [
    "# Example 3.\n",
    "# String method examples that deal with cases\n",
    "\n",
    "msg = \"Hello, World!\"\n",
    "\n",
    "print(msg.upper())      \n",
    "print(msg.lower())\n",
    "print(msg.capitalize())"
   ]
  },
  {
   "cell_type": "code",
   "execution_count": null,
   "metadata": {},
   "outputs": [],
   "source": [
    "# Example 3.\n",
    "# String splits\n",
    "\n",
    "lorem_ipsum = \"Lorem ipsum dolor sit amet, consectetur adipiscing elit, sed do eiusmod tempor incididunt ut labore et dolore magna aliqua. Ut enim ad minim veniam, quis nostrud exercitation ullamco laboris nisi ut aliquip ex ea commodo consequat. Duis aute irure dolor in reprehenderit in voluptate velit esse cillum dolore eu fugiat nulla pariatur. Excepteur sint occaecat cupidatat non proident, sunt in culpa qui officia deserunt mollit anim id est laborum.\"\n",
    "\n",
    "lorem_list = lorem_ipsum.split()\n",
    "\n",
    "print(\"lorem_list has\", len(lorem_list), \"words.\\nThey are:\\n\")\n",
    "for word in lorem_list:\n",
    "    print(word)\n"
   ]
  },
  {
   "cell_type": "code",
   "execution_count": null,
   "metadata": {},
   "outputs": [],
   "source": [
    "# Example 3.\n",
    "# String strips and splitlines\n",
    "\n",
    "title = \"    WILL YOUR ANCHOR HOLD    \"\n",
    "\n",
    "print(title.lstrip())\n",
    "print(title.rstrip())\n",
    "\n",
    "chorus = \"    We have an anchor that keeps the soul    \"\n",
    "chorus2 = \"    Stedfast and Sure while the billows roll    \"\n",
    "chorus3 = \"    Fastened to the Rock which cannot move    \"\n",
    "chorus4 = \"    Grounded firm and deep in the Saviour's love    \"\n",
    "\n",
    "chorus = chorus + \"\\n\" + chorus2 + \"\\n\" + chorus3 + \"\\n\" + chorus4 \n",
    "print(\"\\n\", chorus)\n",
    "\n",
    "song_chor = chorus.splitlines()\n",
    "print(\"\\n\", song_chor)\n",
    "\n",
    "# strip further each string in list\n",
    "song_chor = [x.lstrip() for x in song_chor] # These are valid statements, \n",
    "song_chor = [x.rstrip() for x in song_chor] # they are list comprehensions in Python\n",
    "\n",
    "print(\"\\n\", song_chor)"
   ]
  },
  {
   "cell_type": "markdown",
   "metadata": {},
   "source": [
    "### Multiline strings\n",
    "\n",
    "You can also assign a multine line string to a variable using a pair of triple quotes, `\"\"\" \"\"\"` or `''' '''`."
   ]
  },
  {
   "cell_type": "code",
   "execution_count": null,
   "metadata": {},
   "outputs": [],
   "source": [
    "# Example 3.\n",
    "# Multiline string\n",
    "\n",
    "chorus = \"\"\"We have an anchor that keeps the soul\n",
    "Stedfast and Sure while the billows roll\n",
    "Fastened to the rock which cannot move\n",
    "Grounded firm and deep in the saviour's love\"\"\"\n",
    "\n",
    "print(chorus)\n",
    "\n",
    "song_chor = chorus.splitlines()\n",
    "print(\"\\n\", song_chor)"
   ]
  },
  {
   "cell_type": "markdown",
   "metadata": {},
   "source": [
    "### Strings and `for`\n",
    "\n",
    "Since a string is just an array/list of characters, the `for` loop can also be used to iteratively access each character of a string."
   ]
  },
  {
   "cell_type": "code",
   "execution_count": null,
   "metadata": {},
   "outputs": [],
   "source": [
    "# Example 3.\n",
    "# Strings and for loop\n",
    "\n",
    "webpage = \"www.epcombb.org\"\n",
    "\n",
    "for s in webpage:\n",
    "    print (s)"
   ]
  },
  {
   "cell_type": "markdown",
   "metadata": {},
   "source": [
    "## Spot the error(s) or bug(s)"
   ]
  },
  {
   "cell_type": "code",
   "execution_count": null,
   "metadata": {},
   "outputs": [],
   "source": [
    "# Error 3.1\n",
    "# Are all of these Python lists?\n",
    "\n",
    "squares_1 = 1, 4, 9, 16, 25\n",
    "squares_2 = [1, 4, 9, 16, 25]\n",
    "squares_3 = (1, 4, 9, 16, 25)\n",
    "print(squares_1)\n",
    "type(squares_2)\n"
   ]
  },
  {
   "cell_type": "code",
   "execution_count": null,
   "metadata": {},
   "outputs": [],
   "source": [
    "# Error 3.2\n",
    "# Let's do a simple for loop\n",
    "\n",
    "for x in [\"apples\", \"bananas\", \"carnations\", \"durians\", \"eggs\"]\n",
    "    print (x)"
   ]
  },
  {
   "cell_type": "code",
   "execution_count": null,
   "metadata": {},
   "outputs": [],
   "source": [
    "# Error 3.3\n",
    "# \"I love you 3000!\" with for and range\n",
    "\n",
    "for x in range(3000):\n",
    "    print(\"I love you\", x, \"!\")"
   ]
  },
  {
   "cell_type": "code",
   "execution_count": null,
   "metadata": {},
   "outputs": [],
   "source": [
    "# Error 3.4\n",
    "# Reversing list elements\n",
    "\n",
    "squares = [1, 4, 9, 16, 25]\n",
    "squares.reverse\n",
    "print(squares)"
   ]
  },
  {
   "cell_type": "code",
   "execution_count": null,
   "metadata": {},
   "outputs": [],
   "source": [
    "# Error 3.5\n",
    "# Let's slice the first three and last three elements of a list\n",
    "\n",
    "squares = [x**2 for x in range(10)]   # list comprehension\n",
    "print (squares)\n",
    "\n",
    "first_three = squares [1:3] \n",
    "last_three = squares [-3:]\n",
    "\n",
    "print(\"The first three squares are\", first_three)\n",
    "print(\"The last three squares are\", last_three)"
   ]
  },
  {
   "cell_type": "code",
   "execution_count": null,
   "metadata": {},
   "outputs": [],
   "source": [
    "# Error 3.6\n",
    "# Try printing Hello, World!\n",
    "\n",
    "msg1 = [Hello, world!]\n",
    "print(msg)"
   ]
  },
  {
   "cell_type": "markdown",
   "metadata": {},
   "source": [
    "---\n",
    "## Exercise\n",
    "\n",
    "### Exercise 3.1\n",
    "\n",
    "Use `for` and `range()` to create the first ten integer squares starting from 1. Assign all the square values into a list. Find the sum of the squares and its average."
   ]
  },
  {
   "cell_type": "code",
   "execution_count": null,
   "metadata": {},
   "outputs": [],
   "source": [
    "# Exercise 3.1"
   ]
  },
  {
   "cell_type": "markdown",
   "metadata": {},
   "source": [
    "### Exercise 3.2\n",
    "\n",
    "The daily mean temperatures of a city in four weeks are as such:\n",
    "\n",
    "1. 12, 16, 22, 25, 24, 20, 18\n",
    "2. 18, 25, 27, 28, 20, 21, 23\n",
    "3. 25, 17, 16, 14, 12, 20, 23\n",
    "4. 22, 19, 18, 16, 22, 25, 27\n",
    "\n",
    "Each weeks starts with Monday. In this format, the first week's mean temperature on Monday is 12°C, Tuesday is 16°C, and it is 18°C for Sunday.\n",
    "\n",
    "Initialise a `Cdegrees` list to store the temperatures.\n",
    "\n",
    "\n",
    "#### 3.2a\n",
    "Create temperatures for `week1` to `week4` with list slicing & loops.\n",
    "\n",
    "Find the mean temperature \n",
    "1. of `Cdegrees`\n",
    "2. of each week"
   ]
  },
  {
   "cell_type": "code",
   "execution_count": null,
   "metadata": {},
   "outputs": [],
   "source": [
    "# Exercise 3.2a"
   ]
  },
  {
   "cell_type": "markdown",
   "metadata": {},
   "source": [
    "#### 3.2b\n",
    "\n",
    "From `week1` to `week4`, use list slicing and concatenation, create lists `weekdays` and `weekends` that should have 20 and 8 elements respectively.\n",
    "\n",
    "Perform list sorting, and find the lowest temperature for `weekdays` and `weekends`."
   ]
  },
  {
   "cell_type": "code",
   "execution_count": null,
   "metadata": {},
   "outputs": [],
   "source": [
    "# Exercise 3.2b"
   ]
  },
  {
   "cell_type": "markdown",
   "metadata": {},
   "source": [
    "#### 3.2c\n",
    "*Celsius to Fahrenheit*\n",
    "\n",
    "The formula to get °F from °C can be calculated like this: \n",
    "\n",
    "(0°C × 9/5) + 32 = 32°F\n",
    "\n",
    "Convert all the values in `Cdegrees` to °F and save in `Fdegrees`. \n",
    "\n",
    "Use `round()` function to truncate trailing decimals, eg `round(6.19)` will give `6`."
   ]
  },
  {
   "cell_type": "code",
   "execution_count": null,
   "metadata": {},
   "outputs": [],
   "source": [
    "# Exercise 3.2c"
   ]
  },
  {
   "cell_type": "markdown",
   "metadata": {},
   "source": [
    "### Exercise 3.3\n",
    "\n",
    "Create a programme that collects a collection of values entered by the user. Save the values in a list.\n",
    "\n",
    "When the user inputs 0, that marks the end of the values entered. The value 0 should not be added into the list.\n",
    "\n",
    "The programme should print out the total number of values entered, and its mean and median."
   ]
  },
  {
   "cell_type": "code",
   "execution_count": null,
   "metadata": {},
   "outputs": [],
   "source": [
    "# Exercise 3.3"
   ]
  },
  {
   "cell_type": "markdown",
   "metadata": {},
   "source": [
    "### Exercise 3.4\n",
    "\n",
    "Repeat *Exercise 2.4* with a `for` loop.\n",
    "\n",
    "Find also the sum from 10, 20,..., 490, 500."
   ]
  },
  {
   "cell_type": "code",
   "execution_count": null,
   "metadata": {},
   "outputs": [],
   "source": [
    "# Exercise 3.4"
   ]
  },
  {
   "cell_type": "markdown",
   "metadata": {},
   "source": [
    "### Exercise 3.5\n",
    "\n",
    "Write a programme that asks for the number of players. The minimum is 2 and the maximum is 4.\n",
    "\n",
    "#### 3.5a\n",
    "\n",
    "Use the results from Exercise 2.7, create a list that saves the dice rolls of the players."
   ]
  },
  {
   "cell_type": "code",
   "execution_count": null,
   "metadata": {},
   "outputs": [],
   "source": [
    "# Exercise 3.5a"
   ]
  },
  {
   "cell_type": "markdown",
   "metadata": {},
   "source": [
    "#### 3.5b\n",
    "\n",
    "Simulate a \"Snakes & Ladders\" game without the snakes and ladders, see how many rolls it take for any one player to reach at least the score of 100.\n",
    "\n",
    "The programme should print out which player is the winner, the winner's score and how many rolls it took to win. Print out also the scores of the other players."
   ]
  },
  {
   "cell_type": "code",
   "execution_count": null,
   "metadata": {},
   "outputs": [],
   "source": [
    "# Exercise 3.5b"
   ]
  },
  {
   "cell_type": "markdown",
   "metadata": {},
   "source": [
    "## Exercise 3.6\n",
    "\n",
    "Initialise a string variable `verse1` with the following text:\n",
    "\n",
    "```\n",
    "Will your anchor hold in the storms of life,\n",
    "When the clouds unfold their wings of strife?\n",
    "When the strong tides lift, and the cables strain,\n",
    "Will your anchor drift or firm remain?\n",
    "```\n",
    "\n",
    "and `chorus` with the following:\n",
    "\n",
    "```\n",
    "We have an anchor that keeps the soul\n",
    "Stedfast and Sure while the billows roll\n",
    "Fastened to the Rock which cannot move\n",
    "Grounded firm and deep in the Saviour's love\n",
    "```\n",
    "Concatenate the strings into string `will_your_anchor_hold`.\n",
    "\n",
    "Obtain a list of the words in the string, ie, transfer each word into a list.\n",
    "\n",
    "Print out how many times the word `anchor` appeared in the song with a list method."
   ]
  },
  {
   "cell_type": "code",
   "execution_count": null,
   "metadata": {},
   "outputs": [],
   "source": [
    "# Exercise 3.6"
   ]
  },
  {
   "cell_type": "markdown",
   "metadata": {},
   "source": [
    "---\n",
    "\n",
    "## Summary\n",
    "\n",
    "A **list** is initialiased with a variable name followed by a pair of square brackets/parentheses `[]`.\n",
    "\n",
    "Each value in the list is called an **element （元素）**. Each element is separate by a comma `,`.\n",
    "\n",
    "Lists can also be **sliced**, using `:` inside `[]` to return a shallow copy of the list.\n",
    "\n",
    "Lists also allow concatenation with the `+` operator.\n",
    "\n",
    "A list can hold mixed type elements.\n",
    "\n",
    "Lists within a list is permissible, and are called **nested lists**.\n",
    "\n",
    "List **methods** can be called with `.` and `<MethodName>`, followed by `( args )`.\n",
    "\n",
    "List is a form of a collection data type in Python. It is similar to arrays in other programming languages.\n",
    "\n",
    "---\n",
    "\n",
    "A string can be viewed as an array/list of characters.\n",
    "\n",
    "Strings allow slicing and have their methods too.\n",
    "\n",
    "Use a pair of triple quotes `\"\"\" \"\"\"` to assign multiline strings.\n",
    "\n",
    "---\n",
    "\n",
    "Strings and lists are objects in Python, and they contain data as well as their respective methods.\n",
    "\n",
    "Since objects appear in Python, Python is classified as an **Object Oriented Programming (OOP)** language.\n",
    "\n",
    "---\n",
    "A `for` construct loops over the elements of an array, and allows each element to be operated one at a time.\n",
    "\n",
    "The `range()` function can be used to create a list of numbers, and is commonly paired with `for`."
   ]
  }
 ],
 "metadata": {
  "kernelspec": {
   "display_name": "Python 3",
   "language": "python",
   "name": "python3"
  },
  "language_info": {
   "codemirror_mode": {
    "name": "ipython",
    "version": 3
   },
   "file_extension": ".py",
   "mimetype": "text/x-python",
   "name": "python",
   "nbconvert_exporter": "python",
   "pygments_lexer": "ipython3",
   "version": "3.6.9"
  }
 },
 "nbformat": 4,
 "nbformat_minor": 2
}
